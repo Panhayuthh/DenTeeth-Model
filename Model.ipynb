{
 "cells": [
  {
   "cell_type": "code",
   "execution_count": null,
   "id": "e6131ed7-506b-4068-9551-23a6e2eba17f",
   "metadata": {},
   "outputs": [],
   "source": [
    "!pip list"
   ]
  },
  {
   "cell_type": "markdown",
   "id": "3994aab9",
   "metadata": {},
   "source": [
    "**Check available devices and optimise GPU Performance**"
   ]
  },
  {
   "cell_type": "code",
   "execution_count": null,
   "id": "9d94af3f",
   "metadata": {},
   "outputs": [],
   "source": [
    "import tensorflow as tf\n",
    "from tensorflow.python.client import device_lib\n",
    "\n",
    "def get_available_devices():\n",
    "    local_device_protos = device_lib.list_local_devices()\n",
    "    return [x.name for x in local_device_protos]\n",
    "\n",
    "print(get_available_devices())\n",
    "\n",
    "# Avoid OOM errors by setting GPU Memory Consumption Growth\n",
    "gpus = tf.config.experimental.list_physical_devices('GPU')\n",
    "for gpu in gpus: \n",
    "    tf.config.experimental.set_memory_growth(gpu, True)"
   ]
  },
  {
   "cell_type": "code",
   "execution_count": null,
   "id": "9784fd0c",
   "metadata": {},
   "outputs": [],
   "source": [
    "import torch\n",
    "import torchvision\n",
    "\n",
    "# check if CUDA is available\n",
    "device = \"cuda\" if torch.cuda.is_available() else \"cpu\"\n",
    "if device == \"cuda\":\n",
    "    torch.cuda.set_device(0)\n",
    "print(f'Using device: {device}')\n",
    "\n",
    "# check if torchvision is using CUDA\n",
    "boxes = torch.tensor([[0., 1., 2., 3.]]).to(device)\n",
    "scores = torch.randn(1).to(device)\n",
    "iou_thresholds = 0.5\n",
    "\n",
    "print(torchvision.ops.nms(boxes, scores, iou_thresholds))"
   ]
  },
  {
   "cell_type": "code",
   "execution_count": null,
   "id": "70861343-9d63-43a3-bc7e-97cd1fefa41c",
   "metadata": {},
   "outputs": [],
   "source": [
    "from ultralytics import YOLO\n",
    "\n",
    "# Load a model\n",
    "model = YOLO(\"yolov8n.yaml\").to(device) # build a new model from scratch\n",
    "\n",
    "# Use the model\n",
    "results = model.train(data=\"config.yaml\", epochs=3)  # train the model\n",
    "\n",
    "print(results.metrics)  # This should display the training metrics\n"
   ]
  }
 ],
 "metadata": {
  "kernelspec": {
   "display_name": "Python 3",
   "language": "python",
   "name": "python3"
  },
  "language_info": {
   "codemirror_mode": {
    "name": "ipython",
    "version": 3
   },
   "file_extension": ".py",
   "mimetype": "text/x-python",
   "name": "python",
   "nbconvert_exporter": "python",
   "pygments_lexer": "ipython3",
   "version": "3.10.14"
  }
 },
 "nbformat": 4,
 "nbformat_minor": 5
}
