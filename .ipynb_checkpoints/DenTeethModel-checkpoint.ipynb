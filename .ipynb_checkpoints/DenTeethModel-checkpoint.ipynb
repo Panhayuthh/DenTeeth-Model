{
 "cells": [
  {
   "cell_type": "code",
   "execution_count": 11,
   "id": "a1e0bc37-33bc-4cd4-a858-6a661beab5b6",
   "metadata": {},
   "outputs": [
    {
     "name": "stdout",
     "output_type": "stream",
     "text": [
      "Python 3.11.9\n"
     ]
    }
   ],
   "source": [
    "!python --version"
   ]
  },
  {
   "cell_type": "code",
   "execution_count": null,
   "id": "17d0c498-2c1c-4fdc-8499-c76a5a1d478a",
   "metadata": {},
   "outputs": [],
   "source": [
    "!pip install \"tensorflow==2.12\""
   ]
  },
  {
   "cell_type": "code",
   "execution_count": 8,
   "id": "622eba85-d865-4cfb-b1c3-55d88a5dddb4",
   "metadata": {},
   "outputs": [
    {
     "name": "stdout",
     "output_type": "stream",
     "text": [
      "Package                   Version\n",
      "------------------------- ------------\n",
      "anyio                     4.0.0\n",
      "argon2-cffi               23.1.0\n",
      "argon2-cffi-bindings      21.2.0\n",
      "arrow                     1.2.3\n",
      "asttokens                 2.4.0\n",
      "async-lru                 2.0.4\n",
      "attrs                     23.1.0\n",
      "Babel                     2.12.1\n",
      "backcall                  0.2.0\n",
      "beautifulsoup4            4.12.2\n",
      "bleach                    6.0.0\n",
      "certifi                   2023.7.22\n",
      "cffi                      1.15.1\n",
      "charset-normalizer        3.2.0\n",
      "colorama                  0.4.6\n",
      "comm                      0.1.4\n",
      "contourpy                 1.1.0\n",
      "cycler                    0.11.0\n",
      "debugpy                   1.8.0\n",
      "decorator                 5.1.1\n",
      "defusedxml                0.7.1\n",
      "distlib                   0.3.8\n",
      "et-xmlfile                1.1.0\n",
      "executing                 1.2.0\n",
      "fastjsonschema            2.18.0\n",
      "filelock                  3.14.0\n",
      "fonttools                 4.42.1\n",
      "fqdn                      1.5.1\n",
      "h11                       0.14.0\n",
      "httpcore                  1.0.2\n",
      "httpx                     0.25.1\n",
      "idna                      3.4\n",
      "ipykernel                 6.25.2\n",
      "ipython                   8.15.0\n",
      "isoduration               20.11.0\n",
      "jedi                      0.19.0\n",
      "Jinja2                    3.1.2\n",
      "json5                     0.9.14\n",
      "jsonpointer               2.4\n",
      "jsonschema                4.19.0\n",
      "jsonschema-specifications 2023.7.1\n",
      "jupyter_client            8.3.1\n",
      "jupyter_core              5.3.1\n",
      "jupyter-events            0.7.0\n",
      "jupyter-lsp               2.2.0\n",
      "jupyter_server            2.7.3\n",
      "jupyter_server_terminals  0.4.4\n",
      "jupyterlab                4.0.6\n",
      "jupyterlab-pygments       0.2.2\n",
      "jupyterlab_server         2.25.0\n",
      "kiwisolver                1.4.5\n",
      "MarkupSafe                2.1.3\n",
      "matplotlib                3.8.0\n",
      "matplotlib-inline         0.1.6\n",
      "mistune                   3.0.1\n",
      "nbclient                  0.8.0\n",
      "nbconvert                 7.8.0\n",
      "nbformat                  5.9.2\n",
      "nest-asyncio              1.5.7\n",
      "notebook                  7.0.3\n",
      "notebook_shim             0.2.3\n",
      "numpy                     1.25.2\n",
      "opencv-python             4.9.0.80\n",
      "openpyxl                  3.1.2\n",
      "overrides                 7.4.0\n",
      "packaging                 23.1\n",
      "pandas                    2.1.0\n",
      "pandocfilters             1.5.0\n",
      "parso                     0.8.3\n",
      "pickleshare               0.7.5\n",
      "Pillow                    10.0.0\n",
      "pip                       24.0\n",
      "platformdirs              3.10.0\n",
      "prometheus-client         0.17.1\n",
      "prompt-toolkit            3.0.39\n",
      "psutil                    5.9.5\n",
      "pure-eval                 0.2.2\n",
      "pycparser                 2.21\n",
      "pygame                    2.5.2\n",
      "Pygments                  2.16.1\n",
      "pyparsing                 3.1.1\n",
      "python-dateutil           2.8.2\n",
      "python-json-logger        2.0.7\n",
      "python-telegram-bot       20.6\n",
      "pytz                      2023.3.post1\n",
      "pywin32                   306\n",
      "pywinpty                  2.0.11\n",
      "PyYAML                    6.0.1\n",
      "pyzmq                     25.1.1\n",
      "referencing               0.30.2\n",
      "requests                  2.31.0\n",
      "rfc3339-validator         0.1.4\n",
      "rfc3986-validator         0.1.1\n",
      "rpds-py                   0.10.3\n",
      "Send2Trash                1.8.2\n",
      "setuptools                65.5.0\n",
      "six                       1.16.0\n",
      "sniffio                   1.3.0\n",
      "soupsieve                 2.5\n",
      "stack-data                0.6.2\n",
      "terminado                 0.17.1\n",
      "tinycss2                  1.2.1\n",
      "tornado                   6.3.3\n",
      "traitlets                 5.10.0\n",
      "tzdata                    2023.3\n",
      "uri-template              1.3.0\n",
      "urllib3                   2.0.4\n",
      "virtualenv                20.26.2\n",
      "wcwidth                   0.2.6\n",
      "webcolors                 1.13\n",
      "webencodings              0.5.1\n",
      "websocket-client          1.6.3\n",
      "wordcloud                 1.9.2\n"
     ]
    }
   ],
   "source": [
    "!pip list"
   ]
  },
  {
   "cell_type": "code",
   "execution_count": 4,
   "id": "7d4e03bb-54ed-456f-92c2-ae8af199bbb9",
   "metadata": {
    "scrolled": true
   },
   "outputs": [],
   "source": [
    "from ultralytics import YOLO\n",
    "from tensorflow.python.client import device_lib"
   ]
  },
  {
   "cell_type": "code",
   "execution_count": 5,
   "id": "20edd295-c2a5-4911-9f97-bb4045bbf945",
   "metadata": {},
   "outputs": [
    {
     "name": "stdout",
     "output_type": "stream",
     "text": [
      "['/device:CPU:0']\n"
     ]
    }
   ],
   "source": [
    "# Avoid OOM errors by setting GPU Memory Consumption Growth\n",
    "def get_available_devices():\n",
    "    local_device_protos = device_lib.list_local_devices()\n",
    "    return [x.name for x in local_device_protos]\n",
    "\n",
    "print(get_available_devices())"
   ]
  },
  {
   "cell_type": "code",
   "execution_count": null,
   "id": "0e514967-d61a-4429-8b75-0f9a27039998",
   "metadata": {},
   "outputs": [],
   "source": [
    "model = YOLO(\"yolov8n.yaml\")  # build a new model from scratch\n",
    "\n",
    "model.train(data=\"config.yaml\", epochs=3)  # train the model"
   ]
  }
 ],
 "metadata": {
  "kernelspec": {
   "display_name": "cuda",
   "language": "python",
   "name": "cuda"
  },
  "language_info": {
   "codemirror_mode": {
    "name": "ipython",
    "version": 3
   },
   "file_extension": ".py",
   "mimetype": "text/x-python",
   "name": "python",
   "nbconvert_exporter": "python",
   "pygments_lexer": "ipython3",
   "version": "3.10.14"
  }
 },
 "nbformat": 4,
 "nbformat_minor": 5
}
